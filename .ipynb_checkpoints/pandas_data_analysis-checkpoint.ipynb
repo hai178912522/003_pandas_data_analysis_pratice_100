{
 "cells": [
  {
   "cell_type": "code",
   "execution_count": null,
   "metadata": {
    "pycharm": {
     "name": "#%%\n"
    }
   },
   "outputs": [],
   "source": [
    "import pandas as pd\n",
    "import numpy as np"
   ]
  },
  {
   "cell_type": "code",
   "execution_count": null,
   "metadata": {
    "pycharm": {
     "name": "#%%\n"
    }
   },
   "outputs": [],
   "source": [
    "df = pd.read_csv(\"./data/00700.HK.csv\",index_col=0)\n",
    "print(df)"
   ]
  },
  {
   "cell_type": "code",
   "execution_count": null,
   "metadata": {
    "pycharm": {
     "name": "#%%\n"
    }
   },
   "outputs": [],
   "source": [
    "# 022 股票的信息和基本数据统计\n",
    "print(df.info())"
   ]
  },
  {
   "cell_type": "code",
   "execution_count": null,
   "metadata": {
    "pycharm": {
     "name": "#%%\n"
    }
   },
   "outputs": [],
   "source": [
    "print(df.describe())"
   ]
  },
  {
   "cell_type": "code",
   "execution_count": null,
   "metadata": {
    "pycharm": {
     "name": "#%%\n"
    }
   },
   "outputs": [],
   "source": [
    "# 023 更改索引列为普通数据列\n",
    "df.reset_index(inplace=True)\n",
    "print(df.head())\n",
    "print(df.columns())"
   ]
  },
  {
   "cell_type": "code",
   "execution_count": null,
   "metadata": {
    "pycharm": {
     "name": "#%%\n"
    }
   },
   "outputs": [],
   "source": [
    "# 024 给股票数据新增年份和月份\n",
    "df = pd.read_csv(\"./data/00700.HK.csv\")\n",
    "print(df.head())\n",
    "df['Date'] = pd.to_datetime(df['Date'])\n",
    "df['Year'] = df['Date'].dt.year\n",
    "df['Month'] = df['Date'].dt.month\n",
    "print(df.head())\n"
   ]
  },
  {
   "cell_type": "code",
   "execution_count": null,
   "metadata": {
    "pycharm": {
     "name": "#%%\n"
    }
   },
   "outputs": [],
   "source": [
    "# 025 计算每年的平均收盘价\n",
    "df = pd.read_csv(\"./data/00700.HK.csv\")\n",
    "df['Date'] = pd.to_datetime(df['Date'])\n",
    "df['Year'] = df['Date'].dt.year\n",
    "df['Month'] = df['Date'].dt.month\n",
    "print(df.head())\n",
    "df.groupby('Year')['Close'].mean().plot()"
   ]
  },
  {
   "cell_type": "code",
   "execution_count": null,
   "metadata": {
    "pycharm": {
     "name": "#%%\n"
    }
   },
   "outputs": [],
   "source": [
    "# 026 股票数据找出收盘价最低值所在的行\n",
    "df = pd.read_csv(\"./data/00700.HK.csv\")\n",
    "print(df['Close'].min())\n",
    "print(df['Close'].argmin()) # 找出收盘价最低值所在的索引\n",
    "print(df.loc[[df['Close'].argmin()]])"
   ]
  },
  {
   "cell_type": "code",
   "execution_count": null,
   "metadata": {
    "pycharm": {
     "name": "#%%\n"
    }
   },
   "outputs": [],
   "source": [
    "# 027 筛选出部分数据列，删除指定列\n",
    "df = pd.read_csv(\"./data/00700.HK.csv\")\n",
    "print(df.head())\n",
    "df_new = df[['Date','Open','Close','Volume']]\n",
    "print(df_new.head())"
   ]
  },
  {
   "cell_type": "code",
   "execution_count": null,
   "metadata": {
    "pycharm": {
     "name": "#%%\n"
    }
   },
   "outputs": [],
   "source": [
    "# 028 设置日期为索引\n",
    "df = pd.read_csv(\"./data/00700.HK.csv\")\n",
    "df.set_index('Date',inplace=True)\n",
    "print(df.head())"
   ]
  },
  {
   "cell_type": "code",
   "execution_count": null,
   "metadata": {
    "pycharm": {
     "name": "#%%"
    }
   },
   "outputs": [],
   "source": [
    "# 删除不需要的数据列\n",
    "df = pd.read_csv(\"./data/00700.HK.csv\")\n",
    "# 两种方法\n",
    "df.drop(columns=['High','Low'],inplace=True)\n",
    "# df.drop(['High','Low'],axis=1,inplace=True)\n",
    "print(df.head())"
   ]
  },
  {
   "cell_type": "code",
   "execution_count": null,
   "metadata": {},
   "outputs": [],
   "source": [
    "# 030 对列进行重命名\n",
    "df = pd.read_csv(\"./data/00700.HK.csv\")\n",
    "print(df.head())\n",
    "# 方法一\n",
    "# df.columns = ['D','O','C','V','H','L']\n",
    "# print(df.head())\n",
    "# 方法二\n",
    "df.rename(columns={'High':'H','Low':'L'},inplace=True)\n",
    "print(df.head())\n"
   ]
  },
  {
   "cell_type": "code",
   "execution_count": null,
   "metadata": {},
   "outputs": [],
   "source": [
    "# 031 加载电信客户流失数据集\n",
    "df = pd.read_csv(\"data\\Telco-Customer-Churn.csv\")\n",
    "print(df.head(4))"
   ]
  },
  {
   "cell_type": "code",
   "execution_count": null,
   "metadata": {},
   "outputs": [],
   "source": [
    "# 032 计算每一列数据的缺失值\n",
    "df = pd.read_csv(\"data\\Telco-Customer-Churn.csv\")\n",
    "# print(df.head(4))\n",
    "print(df.isnull().sum())# 如果数字大于0，则表示缺失值，True表示缺失值=1,false表示不是缺失值=0"
   ]
  },
  {
   "cell_type": "code",
   "execution_count": null,
   "metadata": {},
   "outputs": [],
   "source": [
    "# 033 正确设置数据列的类型\n",
    "df = pd.read_csv(\"data\\Telco-Customer-Churn.csv\")\n",
    "# print(df.head(4))\n",
    "# print(df.info())\n",
    "# TotalCharges      7043 non-null   object # 不是float类型 # 查看原因\n",
    "print(df['TotalCharges'].value_counts())  # 查看每个值的数量,发现空格出现11次\n",
    "# 使用中位数代替空值\n",
    "median = df['TotalCharges'][df['TotalCharges'] != ' '].median()\n",
    "df.loc[df['TotalCharges'] == ' ', 'TotalCharges'] = median\n",
    "df['TotalCharges'] = df['TotalCharges'].astype('float64')\n",
    "print(df['TotalCharges'].value_counts()) \n"
   ]
  },
  {
   "cell_type": "code",
   "execution_count": null,
   "metadata": {},
   "outputs": [],
   "source": [
    "# 034 将类别字段转换成category类型\n",
    "df = pd.read_csv(\"data\\Telco-Customer-Churn.csv\")\n",
    "median = df['TotalCharges'][df['TotalCharges'] != ' '].median()\n",
    "df.loc[df['TotalCharges'] == ' ', 'TotalCharges'] = median\n",
    "df['TotalCharges'] = df['TotalCharges'].astype('float64')\n",
    "print(df.columns)\n",
    "# 将某些列批量转换类型\n",
    "number_columns = ['tenure','MonthlyCharges','TotalCharges']\n",
    "for columns in number_columns:\n",
    "    df[columns] = df[columns].astype('float64')\n",
    "# 将其他元素转换成category类型\n",
    "for columns in set(df.columns) - set(number_columns):\n",
    "    df[columns] = pd.Categorical(df[columns])\n",
    "print(df.info())"
   ]
  },
  {
   "cell_type": "code",
   "execution_count": null,
   "metadata": {},
   "outputs": [],
   "source": [
    "# 035 对Category类型的数据进行描述性数据统计\n",
    "df = pd.read_csv(\"data\\Telco-Customer-Churn.csv\")\n",
    "median = df['TotalCharges'][df['TotalCharges'] != ' '].median()\n",
    "df.loc[df['TotalCharges'] == ' ', 'TotalCharges'] = median\n",
    "df['TotalCharges'] = df['TotalCharges'].astype('float64')\n",
    "print(df.columns)\n",
    "# 将某些列批量转换类型\n",
    "number_columns = ['tenure','MonthlyCharges','TotalCharges']\n",
    "for columns in number_columns:\n",
    "    df[columns] = df[columns].astype('float64')\n",
    "# 将其他元素转换成category类型\n",
    "for columns in set(df.columns) - set(number_columns):\n",
    "    df[columns] = pd.Categorical(df[columns])\n",
    "# print(df.info())\n",
    "print(df.describe(include=['category']))\n"
   ]
  },
  {
   "cell_type": "code",
   "execution_count": null,
   "metadata": {},
   "outputs": [],
   "source": [
    "# 036 查看churn字段的数据分布\n",
    "df = pd.read_csv(\"data\\Telco-Customer-Churn.csv\")\n",
    "print(df['Churn'].value_counts())\n"
   ]
  },
  {
   "cell_type": "code",
   "execution_count": null,
   "metadata": {},
   "outputs": [],
   "source": [
    "# 037 多维度查看月费字段统计\n",
    "# Churn：客户是否流失\n",
    "# MonthlyCharges：月费用\n",
    "# PaymentMethod：付款方式\n",
    "df = pd.read_csv(\"data\\Telco-Customer-Churn.csv\")\n",
    "print(df.columns)\n",
    "print(df.groupby(['Churn','PaymentMethod'])['MonthlyCharges'].mean())\n",
    "# 发现yes流失用户月费均值大于No流失用户。"
   ]
  },
  {
   "cell_type": "code",
   "execution_count": null,
   "metadata": {},
   "outputs": [],
   "source": [
    "# 038 Churn字段的数据映射\n",
    "# yes -> 1 \n",
    "# no -> 0\n",
    "df = pd.read_csv(\"data/Telco-Customer-Churn.csv\")\n",
    "print(df['Churn'].value_counts())\n",
    "df['Churn'] = df['Churn'].map({'Yes':1,'No':0})\n",
    "print()\n",
    "print(df['Churn'].value_counts())"
   ]
  },
  {
   "cell_type": "code",
   "execution_count": null,
   "metadata": {},
   "outputs": [],
   "source": [
    "# 039查看字段相关性矩阵\n",
    "df = pd.read_csv(\"data/Telco-Customer-Churn.csv\")\n",
    "print(df.corr())"
   ]
  },
  {
   "cell_type": "code",
   "execution_count": null,
   "metadata": {},
   "outputs": [],
   "source": [
    "# 040 从数据集中采样数据行\n",
    "df = pd.read_csv(\"data/Telco-Customer-Churn.csv\")\n",
    "print(df.head(4))\n",
    "# 随机采样\n",
    "print(df.sample(n=10))\n",
    "df.sample(n=10).to_csv('data/sample10.csv')"
   ]
  },
  {
   "cell_type": "code",
   "execution_count": null,
   "metadata": {},
   "outputs": [],
   "source": [
    "# 041 合并两个Series到DataFrame\n",
    "np.random.seed(66)\n",
    "s1 = pd.Series(np.random.randn(20))\n",
    "s2 = pd.Series(np.random.randn(20))\n",
    "df = pd.concat([s1,s2],axis=1)\n",
    "df.columns = ['col1','col2']\n",
    "print(df)"
   ]
  },
  {
   "cell_type": "code",
   "execution_count": null,
   "metadata": {},
   "outputs": [],
   "source": [
    "# 042 多条件筛选DataFrame\n",
    "np.random.seed(66)\n",
    "s1 = pd.Series(np.random.randn(20))\n",
    "s2 = pd.Series(np.random.randn(20))\n",
    "df = pd.concat([s1,s2],axis=1)\n",
    "df.columns = ['col1','col2']\n",
    "print(df[(df['col2']<=0) & (df['col1']<=0)])"
   ]
  },
  {
   "cell_type": "code",
   "execution_count": null,
   "metadata": {},
   "outputs": [],
   "source": [
    "# 根据现有数据列新增一个新的数据列\n",
    "# 新增数据列col3：\n",
    "# 如果col2>=0,col3=1\n",
    "# 如果col2<0,col3=-1\n",
    "np.random.seed(66)\n",
    "s1 = pd.Series(np.random.randn(20))\n",
    "s2 = pd.Series(np.random.randn(20))\n",
    "df = pd.concat([s1,s2],axis=1)\n",
    "df.columns = ['col1','col2']\n",
    "# 两种方法\n",
    "df['col3'] = df['col2'].map(lambda x: 1 if x>=0 else -1)\n",
    "df['col3'] = np.where(df['col2']>=0,1,-1)\n",
    "print(df)"
   ]
  },
  {
   "cell_type": "code",
   "execution_count": null,
   "metadata": {},
   "outputs": [],
   "source": [
    "# 044 根据现有列新增截断数值数据列\n",
    "# 新增数据列col4：\n",
    "# 将col2截断到[-1,1]之间\n",
    "# 如果小于-1，则等于-1\n",
    "# 如果大于1，则等于1\n",
    "\n",
    "# 根据现有数据列新增一个新的数据列\n",
    "# 新增数据列col3：\n",
    "# 如果col2>=0,col3=1\n",
    "# 如果col2<0,col3=-1\n",
    "np.random.seed(66)\n",
    "s1 = pd.Series(np.random.randn(20))\n",
    "s2 = pd.Series(np.random.randn(20))\n",
    "df = pd.concat([s1,s2],axis=1)\n",
    "df.columns = ['col1','col2']\n",
    "# 两种方法\n",
    "df['col3'] = df['col2'].map(lambda x: 1 if x>=0 else -1)\n",
    "df['col3'] = np.where(df['col2']>=0,1,-1)\n",
    "df['col4'] = df['col2'].clip(-1,1)\n",
    "print(df)"
   ]
  },
  {
   "cell_type": "code",
   "execution_count": null,
   "metadata": {},
   "outputs": [],
   "source": [
    "# 045 数据列最大和最小的5个数\n",
    "# 输col2：最大和最小的5个数\n",
    "np.random.seed(66)\n",
    "s1 = pd.Series(np.random.randn(20))\n",
    "s2 = pd.Series(np.random.randn(20))\n",
    "df = pd.concat([s1,s2],axis=1)\n",
    "df.columns = ['col1','col2']\n",
    "print(df.nlargest(5,'col2'))\n",
    "print(df['col2'].nlargest(5))\n"
   ]
  },
  {
   "cell_type": "code",
   "execution_count": null,
   "metadata": {},
   "outputs": [],
   "source": [
    "# 046输出dataframe数字的累积加和值\n",
    "# 输出col1：累积加和\n",
    "np.random.seed(66)\n",
    "s1 = pd.Series(np.random.randn(20))\n",
    "s2 = pd.Series(np.random.randn(20))\n",
    "df = pd.concat([s1,s2],axis=1)\n",
    "df.columns = ['col1','col2']\n",
    "print(df.cumsum())"
   ]
  },
  {
   "cell_type": "code",
   "execution_count": null,
   "metadata": {},
   "outputs": [],
   "source": [
    "#  047 计算一列数字的中位数\n",
    "# 输出col1：中位数\n",
    "np.random.seed(66)\n",
    "s1 = pd.Series(np.random.randn(20))\n",
    "s2 = pd.Series(np.random.randn(20))\n",
    "df = pd.concat([s1,s2],axis=1)\n",
    "df.columns = ['col1','col2']\n",
    "print(df.median())\n",
    "print(df['col2'].median())\n",
    "print(df['col2'].quantile())"
   ]
  },
  {
   "cell_type": "code",
   "execution_count": null,
   "metadata": {},
   "outputs": [],
   "source": [
    "# 048 按条件筛选DF输出过滤后的结果\n",
    "# 输出col2大于0的行\n",
    "np.random.seed(66)\n",
    "s1 = pd.Series(np.random.randn(20))\n",
    "s2 = pd.Series(np.random.randn(20))\n",
    "df = pd.concat([s1,s2],axis=1)\n",
    "df.columns = ['col1','col2']\n",
    "print(df[df['col2']>0])\n",
    "print(df.query('col2>0'))\n"
   ]
  },
  {
   "cell_type": "code",
   "execution_count": null,
   "metadata": {},
   "outputs": [],
   "source": [
    "# 049 将DataFrame前几行转换为dict\n",
    "np.random.seed(66)\n",
    "s1 = pd.Series(np.random.randn(20))\n",
    "s2 = pd.Series(np.random.randn(20))\n",
    "df = pd.concat([s1,s2],axis=1)\n",
    "df.columns = ['col1','col2']\n",
    "print(df.head(5).to_dict())"
   ]
  },
  {
   "cell_type": "code",
   "execution_count": null,
   "metadata": {},
   "outputs": [],
   "source": [
    "# 050 将dataframe转换为html\n",
    "np.random.seed(66)\n",
    "s1 = pd.Series(np.random.randn(20))\n",
    "s2 = pd.Series(np.random.randn(20))\n",
    "df = pd.concat([s1,s2],axis=1)\n",
    "df.columns = ['col1','col2']\n",
    "print(df.to_html())\n"
   ]
  },
  {
   "cell_type": "code",
   "execution_count": null,
   "metadata": {},
   "outputs": [],
   "source": [
    "# 051 按列名筛选dataframe使用.loc方法进行\n",
    "# C列数据，大于0.8\n",
    "np.random.seed(66)\n",
    "df = pd.DataFrame(np.random.randn(10,4),columns=['A','B','C','D'])\n",
    "print(df.loc[df['C']>0.8])\n"
   ]
  },
  {
   "cell_type": "code",
   "execution_count": null,
   "metadata": {},
   "outputs": [],
   "source": [
    "# 052 多条件筛选dataframe\n",
    "# C数据列，大于0.3，D列数据，小于0.7\n",
    "np.random.seed(66)\n",
    "df = pd.DataFrame(np.random.randn(10,4),columns=['A','B','C','D'])\n",
    "print(df.loc[(df['C']>0.3) & (df['D']<0.7)])"
   ]
  },
  {
   "cell_type": "code",
   "execution_count": null,
   "metadata": {},
   "outputs": [],
   "source": [
    "# 053 for循环遍历DataFrame\n",
    "# 使用for循环遍历DataFrame\n",
    "# 使用print打印每一行\n",
    "np.random.seed(66)\n",
    "df = pd.DataFrame(np.random.randn(10,4),columns=['A','B','C','D'])\n",
    "for index,row in df.head(5)iterrows():\n",
    "    print(index,row)\n",
    "\n"
   ]
  },
  {
   "cell_type": "code",
   "execution_count": 79,
   "metadata": {},
   "outputs": [
    {
     "name": "stdout",
     "output_type": "stream",
     "text": [
      "          A         B         C         D\n",
      "0  1.415614 -1.085286 -0.616308 -0.756916\n",
      "1  0.347048  1.556491 -2.956349  1.359081\n",
      "2  0.648347  0.286029  2.956916  1.092710\n",
      "3  1.170838       NaN -0.180981 -0.056043\n",
      "4 -0.185062 -0.610935 -0.048804 -0.632613\n",
      "5 -0.289066 -0.085534 -0.936607 -0.588753\n",
      "6 -0.230317 -1.003714  1.607623  0.345030\n",
      "7  0.194662 -0.267291 -1.220877  1.404255\n",
      "8 -1.215324  0.675887 -0.983351       NaN\n",
      "9  1.168138  0.456376  0.097386 -0.491535\n"
     ]
    }
   ],
   "source": [
    "# 054 精确设置DF的单元格的值\n",
    "# 使用iloc，设置(3,B)单元格的值为nan\n",
    "# 使用loc，设置(8,D)单元格的值为nan\n",
    "np.random.seed(66)\n",
    "df = pd.DataFrame(np.random.randn(10,4),columns=['A','B','C','D'])\n",
    "df.iloc[3,1] = np.nan\n",
    "df.loc[8,'D'] = np.nan\n",
    "print(df)"
   ]
  },
  {
   "cell_type": "code",
   "execution_count": 80,
   "metadata": {},
   "outputs": [
    {
     "name": "stdout",
     "output_type": "stream",
     "text": [
      "          A         B         C         D\n",
      "0  1.415614 -1.085286 -0.616308 -0.756916\n",
      "1  0.347048  1.556491 -2.956349  1.359081\n",
      "2  0.648347  0.286029  2.956916  1.092710\n",
      "4 -0.185062 -0.610935 -0.048804 -0.632613\n",
      "5 -0.289066 -0.085534 -0.936607 -0.588753\n",
      "6 -0.230317 -1.003714  1.607623  0.345030\n",
      "7  0.194662 -0.267291 -1.220877  1.404255\n",
      "9  1.168138  0.456376  0.097386 -0.491535\n"
     ]
    }
   ],
   "source": [
    "# 移除datafrme中的nan的行\n",
    "# 使用dropna，移除nan行\n",
    "np.random.seed(66)\n",
    "df = pd.DataFrame(np.random.randn(10,4),columns=['A','B','C','D'])\n",
    "df.iloc[3,1] = np.nan\n",
    "df.loc[8,'D'] = np.nan\n",
    "print(df.dropna())"
   ]
  },
  {
   "cell_type": "code",
   "execution_count": 81,
   "metadata": {},
   "outputs": [
    {
     "name": "stdout",
     "output_type": "stream",
     "text": [
      "          A         B         C         D\n",
      "0  1.415614 -1.085286 -0.616308 -0.756916\n",
      "1  0.347048  1.556491 -2.956349  1.359081\n",
      "2  0.648347  0.286029  2.956916  1.092710\n",
      "3 -0.185062 -0.610935 -0.048804 -0.632613\n",
      "4 -0.289066 -0.085534 -0.936607 -0.588753\n",
      "5 -0.230317 -1.003714  1.607623  0.345030\n",
      "6  0.194662 -0.267291 -1.220877  1.404255\n",
      "7  1.168138  0.456376  0.097386 -0.491535\n"
     ]
    }
   ],
   "source": [
    "# 移除空行后，重新设置index\n",
    "# 使用dropna，移除nan行\n",
    "# 使用reset_index，重新设置index\n",
    "np.random.seed(66)\n",
    "df = pd.DataFrame(np.random.randn(10,4),columns=['A','B','C','D'])\n",
    "df.iloc[3,1] = np.nan\n",
    "df.loc[8,'D'] = np.nan\n",
    "print(df.dropna().reset_index(drop=True))"
   ]
  },
  {
   "cell_type": "code",
   "execution_count": 84,
   "metadata": {},
   "outputs": [
    {
     "name": "stdout",
     "output_type": "stream",
     "text": [
      "A    0\n",
      "B    1\n",
      "C    0\n",
      "D    1\n",
      "dtype: int64\n"
     ]
    }
   ],
   "source": [
    "# 统计dataframe每个列缺失值\n",
    "# 使用isnull，统计每个列缺失值的个数\n",
    "np.random.seed(66)\n",
    "df = pd.DataFrame(np.random.randn(10,4),columns=['A','B','C','D'])\n",
    "df.iloc[3,1] = np.nan\n",
    "df.loc[8,'D'] = np.nan\n",
    "print(df.isnull().sum())\n"
   ]
  },
  {
   "cell_type": "code",
   "execution_count": 85,
   "metadata": {},
   "outputs": [
    {
     "name": "stdout",
     "output_type": "stream",
     "text": [
      "          A         B         C         D\n",
      "0  1.415614 -1.085286 -0.616308 -0.756916\n",
      "1  0.347048  1.556491 -2.956349  1.359081\n",
      "2  0.648347  0.286029  2.956916  1.092710\n",
      "3  1.170838  0.000000 -0.180981 -0.056043\n",
      "4 -0.185062 -0.610935 -0.048804 -0.632613\n",
      "5 -0.289066 -0.085534 -0.936607 -0.588753\n",
      "6 -0.230317 -1.003714  1.607623  0.345030\n",
      "7  0.194662 -0.267291 -1.220877  1.404255\n",
      "8 -1.215324  0.675887 -0.983351  0.000000\n",
      "9  1.168138  0.456376  0.097386 -0.491535\n"
     ]
    }
   ],
   "source": [
    "# 使用数字填充DataFrame中的nan\n",
    "# 使用fillna，使用数字填充nan\n",
    "np.random.seed(66)\n",
    "df = pd.DataFrame(np.random.randn(10,4),columns=['A','B','C','D'])\n",
    "df.iloc[3,1] = np.nan\n",
    "df.loc[8,'D'] = np.nan\n",
    "print(df.fillna(0))\n"
   ]
  },
  {
   "cell_type": "code",
   "execution_count": 86,
   "metadata": {},
   "outputs": [
    {
     "name": "stdout",
     "output_type": "stream",
     "text": [
      "          B         A         C         D\n",
      "0 -1.085286  1.415614 -0.616308 -0.756916\n",
      "1  1.556491  0.347048 -2.956349  1.359081\n",
      "2  0.286029  0.648347  2.956916  1.092710\n",
      "3       NaN  1.170838 -0.180981 -0.056043\n",
      "4 -0.610935 -0.185062 -0.048804 -0.632613\n",
      "5 -0.085534 -0.289066 -0.936607 -0.588753\n",
      "6 -1.003714 -0.230317  1.607623  0.345030\n",
      "7 -0.267291  0.194662 -1.220877  1.404255\n",
      "8  0.675887 -1.215324 -0.983351       NaN\n",
      "9  0.456376  1.168138  0.097386 -0.491535\n"
     ]
    }
   ],
   "source": [
    "# 修改dataframe中列的顺序\n",
    "# 使用reindex，修改列顺序\n",
    "np.random.seed(66)\n",
    "df = pd.DataFrame(np.random.randn(10,4),columns=['A','B','C','D'])\n",
    "df.iloc[3,1] = np.nan\n",
    "df.loc[8,'D'] = np.nan\n",
    "print(df.reindex(columns=['B','A','C','D']))\n"
   ]
  },
  {
   "cell_type": "code",
   "execution_count": 88,
   "metadata": {},
   "outputs": [
    {
     "name": "stdout",
     "output_type": "stream",
     "text": [
      "          A         B         C\n",
      "0  1.415614 -1.085286 -0.616308\n",
      "1  0.347048  1.556491 -2.956349\n",
      "2  0.648347  0.286029  2.956916\n",
      "3  1.170838       NaN -0.180981\n",
      "4 -0.185062 -0.610935 -0.048804\n",
      "5 -0.289066 -0.085534 -0.936607\n",
      "6 -0.230317 -1.003714  1.607623\n",
      "7  0.194662 -0.267291 -1.220877\n",
      "8 -1.215324  0.675887 -0.983351\n",
      "9  1.168138  0.456376  0.097386\n",
      "          C         D\n",
      "0 -0.616308 -0.756916\n",
      "1 -2.956349  1.359081\n",
      "2  2.956916  1.092710\n",
      "3 -0.180981 -0.056043\n",
      "4 -0.048804 -0.632613\n",
      "5 -0.936607 -0.588753\n",
      "6  1.607623  0.345030\n",
      "7 -1.220877  1.404255\n",
      "8 -0.983351       NaN\n",
      "9  0.097386 -0.491535\n"
     ]
    }
   ],
   "source": [
    "# 060 删除dataframe中的列\n",
    "# 使用drop，删除列\n",
    "np.random.seed(66)\n",
    "df = pd.DataFrame(np.random.randn(10,4),columns=['A','B','C','D'])\n",
    "df.iloc[3,1] = np.nan\n",
    "df.loc[8,'D'] = np.nan  \n",
    "print(df.drop('D',axis=1))\n",
    "print(df.drop(['A','B'],axis=1))"
   ]
  },
  {
   "cell_type": "code",
   "execution_count": null,
   "metadata": {},
   "outputs": [],
   "source": [
    "# 061 二手车数据分析"
   ]
  }
 ],
 "metadata": {
  "kernelspec": {
   "display_name": "Python 3",
   "language": "python",
   "name": "python3"
  },
  "language_info": {
   "codemirror_mode": {
    "name": "ipython",
    "version": 3
   },
   "file_extension": ".py",
   "mimetype": "text/x-python",
   "name": "python",
   "nbconvert_exporter": "python",
   "pygments_lexer": "ipython3",
   "version": "3.8.8"
  }
 },
 "nbformat": 4,
 "nbformat_minor": 1
}
